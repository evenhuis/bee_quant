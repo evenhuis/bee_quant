{
 "cells": [
  {
   "cell_type": "code",
   "execution_count": 2,
   "metadata": {},
   "outputs": [],
   "source": [
    "#matplotlib inline\n",
    "import matplotlib.pyplot as plt\n",
    "import pandas as pd\n",
    "import numpy as np\n",
    "import pymc3 as pm"
   ]
  },
  {
   "cell_type": "code",
   "execution_count": 3,
   "metadata": {},
   "outputs": [],
   "source": [
    "import fit_func_1 as ff"
   ]
  },
  {
   "cell_type": "code",
   "execution_count": 4,
   "metadata": {},
   "outputs": [
    {
     "data": {
      "text/html": [
       "<div>\n",
       "<style scoped>\n",
       "    .dataframe tbody tr th:only-of-type {\n",
       "        vertical-align: middle;\n",
       "    }\n",
       "\n",
       "    .dataframe tbody tr th {\n",
       "        vertical-align: top;\n",
       "    }\n",
       "\n",
       "    .dataframe thead tr th {\n",
       "        text-align: left;\n",
       "    }\n",
       "</style>\n",
       "<table border=\"1\" class=\"dataframe\">\n",
       "  <thead>\n",
       "    <tr>\n",
       "      <th></th>\n",
       "      <th colspan=\"3\" halign=\"left\">Vmax_o</th>\n",
       "      <th colspan=\"3\" halign=\"left\">a_o</th>\n",
       "      <th colspan=\"3\" halign=\"left\">t_o</th>\n",
       "      <th>nu_o</th>\n",
       "      <th>...</th>\n",
       "      <th>a1</th>\n",
       "      <th colspan=\"3\" halign=\"left\">t1</th>\n",
       "      <th colspan=\"3\" halign=\"left\">nu1</th>\n",
       "      <th colspan=\"3\" halign=\"left\">Vmin_n</th>\n",
       "    </tr>\n",
       "    <tr>\n",
       "      <th></th>\n",
       "      <th>m</th>\n",
       "      <th>lo</th>\n",
       "      <th>hi</th>\n",
       "      <th>m</th>\n",
       "      <th>lo</th>\n",
       "      <th>hi</th>\n",
       "      <th>m</th>\n",
       "      <th>lo</th>\n",
       "      <th>hi</th>\n",
       "      <th>m</th>\n",
       "      <th>...</th>\n",
       "      <th>hi</th>\n",
       "      <th>m</th>\n",
       "      <th>lo</th>\n",
       "      <th>hi</th>\n",
       "      <th>m</th>\n",
       "      <th>lo</th>\n",
       "      <th>hi</th>\n",
       "      <th>m</th>\n",
       "      <th>lo</th>\n",
       "      <th>hi</th>\n",
       "    </tr>\n",
       "  </thead>\n",
       "  <tbody>\n",
       "    <tr>\n",
       "      <th>cont_r1_1</th>\n",
       "      <td>113.708</td>\n",
       "      <td>86.7459</td>\n",
       "      <td>171.602</td>\n",
       "      <td>-0.496073</td>\n",
       "      <td>-0.72075</td>\n",
       "      <td>-0.282157</td>\n",
       "      <td>2.58959</td>\n",
       "      <td>0.407097</td>\n",
       "      <td>3.56701</td>\n",
       "      <td>1.09752</td>\n",
       "      <td>...</td>\n",
       "      <td>-0.387501</td>\n",
       "      <td>1.34891</td>\n",
       "      <td>0.457062</td>\n",
       "      <td>2.38211</td>\n",
       "      <td>1.0027</td>\n",
       "      <td>0.577709</td>\n",
       "      <td>1.55834</td>\n",
       "      <td>5.61786</td>\n",
       "      <td>1.03462</td>\n",
       "      <td>12.8875</td>\n",
       "    </tr>\n",
       "    <tr>\n",
       "      <th>cont_r2_1</th>\n",
       "      <td>168.705</td>\n",
       "      <td>121.913</td>\n",
       "      <td>260.121</td>\n",
       "      <td>-0.638321</td>\n",
       "      <td>-0.97021</td>\n",
       "      <td>-0.392384</td>\n",
       "      <td>1.37942</td>\n",
       "      <td>-0.336786</td>\n",
       "      <td>2.30887</td>\n",
       "      <td>1.16655</td>\n",
       "      <td>...</td>\n",
       "      <td>-2.2876</td>\n",
       "      <td>0.484375</td>\n",
       "      <td>0.334889</td>\n",
       "      <td>0.634513</td>\n",
       "      <td>0.867213</td>\n",
       "      <td>0.53751</td>\n",
       "      <td>1.28243</td>\n",
       "      <td>7.46282</td>\n",
       "      <td>2.85377</td>\n",
       "      <td>11.3701</td>\n",
       "    </tr>\n",
       "    <tr>\n",
       "      <th>cont_r2_2</th>\n",
       "      <td>158.233</td>\n",
       "      <td>112.862</td>\n",
       "      <td>274.149</td>\n",
       "      <td>-0.777375</td>\n",
       "      <td>-1.22541</td>\n",
       "      <td>-0.407417</td>\n",
       "      <td>1.46866</td>\n",
       "      <td>-0.351767</td>\n",
       "      <td>2.47813</td>\n",
       "      <td>1.13571</td>\n",
       "      <td>...</td>\n",
       "      <td>-1.26368</td>\n",
       "      <td>0.362816</td>\n",
       "      <td>0.0823504</td>\n",
       "      <td>0.723905</td>\n",
       "      <td>0.88954</td>\n",
       "      <td>0.499671</td>\n",
       "      <td>1.38993</td>\n",
       "      <td>6.85994</td>\n",
       "      <td>1.63301</td>\n",
       "      <td>13.7769</td>\n",
       "    </tr>\n",
       "    <tr>\n",
       "      <th>cont_r3_1</th>\n",
       "      <td>134.244</td>\n",
       "      <td>94.3304</td>\n",
       "      <td>215.622</td>\n",
       "      <td>-0.526833</td>\n",
       "      <td>-0.758632</td>\n",
       "      <td>-0.334343</td>\n",
       "      <td>1.38649</td>\n",
       "      <td>-0.860039</td>\n",
       "      <td>2.65352</td>\n",
       "      <td>1.17964</td>\n",
       "      <td>...</td>\n",
       "      <td>-1.98146</td>\n",
       "      <td>0.0551291</td>\n",
       "      <td>1.93629e-05</td>\n",
       "      <td>0.1223</td>\n",
       "      <td>0.808412</td>\n",
       "      <td>0.491042</td>\n",
       "      <td>1.17112</td>\n",
       "      <td>8.88735</td>\n",
       "      <td>6.74903</td>\n",
       "      <td>11.1684</td>\n",
       "    </tr>\n",
       "    <tr>\n",
       "      <th>cont_r3_2</th>\n",
       "      <td>125.533</td>\n",
       "      <td>87.2236</td>\n",
       "      <td>208.014</td>\n",
       "      <td>-0.532076</td>\n",
       "      <td>-0.875509</td>\n",
       "      <td>-0.305781</td>\n",
       "      <td>2.29106</td>\n",
       "      <td>-0.124318</td>\n",
       "      <td>3.67943</td>\n",
       "      <td>1.08455</td>\n",
       "      <td>...</td>\n",
       "      <td>-1.98728</td>\n",
       "      <td>0.10798</td>\n",
       "      <td>0.0190148</td>\n",
       "      <td>0.203121</td>\n",
       "      <td>0.817269</td>\n",
       "      <td>0.477243</td>\n",
       "      <td>1.20575</td>\n",
       "      <td>7.82162</td>\n",
       "      <td>3.16581</td>\n",
       "      <td>12.1973</td>\n",
       "    </tr>\n",
       "  </tbody>\n",
       "</table>\n",
       "<p>5 rows × 39 columns</p>\n",
       "</div>"
      ],
      "text/plain": [
       "            Vmax_o                         a_o                          t_o  \\\n",
       "                 m       lo       hi         m        lo        hi        m   \n",
       "cont_r1_1  113.708  86.7459  171.602 -0.496073  -0.72075 -0.282157  2.58959   \n",
       "cont_r2_1  168.705  121.913  260.121 -0.638321  -0.97021 -0.392384  1.37942   \n",
       "cont_r2_2  158.233  112.862  274.149 -0.777375  -1.22541 -0.407417  1.46866   \n",
       "cont_r3_1  134.244  94.3304  215.622 -0.526833 -0.758632 -0.334343  1.38649   \n",
       "cont_r3_2  125.533  87.2236  208.014 -0.532076 -0.875509 -0.305781  2.29106   \n",
       "\n",
       "                                 nu_o  ...        a1         t1               \\\n",
       "                 lo       hi        m  ...        hi          m           lo   \n",
       "cont_r1_1  0.407097  3.56701  1.09752  ... -0.387501    1.34891     0.457062   \n",
       "cont_r2_1 -0.336786  2.30887  1.16655  ...   -2.2876   0.484375     0.334889   \n",
       "cont_r2_2 -0.351767  2.47813  1.13571  ...  -1.26368   0.362816    0.0823504   \n",
       "cont_r3_1 -0.860039  2.65352  1.17964  ...  -1.98146  0.0551291  1.93629e-05   \n",
       "cont_r3_2 -0.124318  3.67943  1.08455  ...  -1.98728    0.10798    0.0190148   \n",
       "\n",
       "                          nu1                      Vmin_n                    \n",
       "                 hi         m        lo       hi        m       lo       hi  \n",
       "cont_r1_1   2.38211    1.0027  0.577709  1.55834  5.61786  1.03462  12.8875  \n",
       "cont_r2_1  0.634513  0.867213   0.53751  1.28243  7.46282  2.85377  11.3701  \n",
       "cont_r2_2  0.723905   0.88954  0.499671  1.38993  6.85994  1.63301  13.7769  \n",
       "cont_r3_1    0.1223  0.808412  0.491042  1.17112  8.88735  6.74903  11.1684  \n",
       "cont_r3_2  0.203121  0.817269  0.477243  1.20575  7.82162  3.16581  12.1973  \n",
       "\n",
       "[5 rows x 39 columns]"
      ]
     },
     "execution_count": 4,
     "metadata": {},
     "output_type": "execute_result"
    }
   ],
   "source": [
    "res_df = pd.read_pickle('res.pkl')\n",
    "res_df.head()"
   ]
  },
  {
   "cell_type": "code",
   "execution_count": 11,
   "metadata": {},
   "outputs": [
    {
     "data": {
      "text/plain": [
       "'t_o'"
      ]
     },
     "execution_count": 11,
     "metadata": {},
     "output_type": "execute_result"
    }
   ],
   "source": [
    "ff.var_names[2]"
   ]
  },
  {
   "cell_type": "code",
   "execution_count": 14,
   "metadata": {},
   "outputs": [
    {
     "data": {
      "text/plain": [
       "Text(0, 0.5, 't_o')"
      ]
     },
     "execution_count": 14,
     "metadata": {},
     "output_type": "execute_result"
    },
    {
     "data": {
      "image/png": "[encoded data removed]",
      "text/plain": [
       "<Figure size 432x288 with 1 Axes>"
      ]
     },
     "metadata": {
      "needs_background": "light"
     },
     "output_type": "display_data"
    }
   ],
   "source": [
    "var1 = ff.var_names[0]\n",
    "var2 = ff.var_names[2]\n",
    "treats = 'cont caged_d04 caged_d07 caged_d10'.split()\n",
    "colors = 'blue green orange  red'.split()[:]\n",
    "for treat,color in zip(treats,colors):\n",
    "    mask = res_df.index.str.contains(treat)\n",
    "    m1,l1,h1 = res_df.loc[mask,var1].values.T \n",
    "    m2,l2,h2 = res_df.loc[mask,var2].values.T\n",
    "    \n",
    "    plt.plot(m1,m2,'o',color=color,label=treat)\n",
    "    plt.errorbar(m1,m2,yerr=[m2-l2,h2-m2],xerr=[m1-l1,h1-m1],ls='',color=color  )\n",
    "    plt.legend()\n",
    "plt.xlabel(var1)\n",
    "plt.ylabel(var2)"
   ]
  },
  {
   "cell_type": "code",
   "execution_count": 19,
   "metadata": {},
   "outputs": [
    {
     "data": {
      "text/plain": [
       "Text(0, 0.5, 'Vmax_o')"
      ]
     },
     "execution_count": 19,
     "metadata": {},
     "output_type": "execute_result"
    },
    {
     "data": {
      "image/png": "[encoded data removed]",
      "text/plain": [
       "<Figure size 432x288 with 1 Axes>"
      ]
     },
     "metadata": {
      "needs_background": "light"
     },
     "output_type": "display_data"
    }
   ],
   "source": [
    "var1 = ff.var_names[0]\n",
    "treats = 'cont caged_d04 caged_d07 caged_d10'.split()\n",
    "colors = 'blue green orange  red'.split()[:]\n",
    "for i,(treat,color) in enumerate(zip(treats,colors)):\n",
    "    mask = res_df.index.str.contains(treat)\n",
    "    ntreat=sum(mask)\n",
    "    m1,l1,h1 = res_df.loc[mask,var1].values.T \n",
    "    \n",
    "    \n",
    "    plt.plot([i+j/10. for j in range(ntreat)],m1,'o',color=color,label=treat)\n",
    "    plt.errorbar([i+j/10. for j in range(ntreat)],m1,yerr=[m1-l1,h1-m1],ls='',color=color  )\n",
    "    plt.legend()\n",
    "plt.xlabel(\"ind\")\n",
    "plt.ylabel(var1)"
   ]
  },
  {
   "cell_type": "code",
   "execution_count": 7,
   "metadata": {},
   "outputs": [
    {
     "data": {
      "text/plain": [
       "cont_r1_1    113.708\n",
       "cont_r2_1    168.705\n",
       "cont_r2_2    158.233\n",
       "cont_r3_1    134.244\n",
       "cont_r3_2    125.533\n",
       "cont_r3_3    126.901\n",
       "Name: (Vmax_o, m), dtype: object"
      ]
     },
     "execution_count": 7,
     "metadata": {},
     "output_type": "execute_result"
    }
   ],
   "source": [
    "res_df.loc[mask,(var1,'m')]"
   ]
  },
  {
   "cell_type": "code",
   "execution_count": 8,
   "metadata": {},
   "outputs": [
    {
     "data": {
      "image/png": "[encoded data removed]",
      "text/plain": [
       "<Figure size 432x288 with 1 Axes>"
      ]
     },
     "metadata": {
      "needs_background": "light"
     },
     "output_type": "display_data"
    }
   ],
   "source": [
    "\n",
    "\n",
    "var = ff.var_names[3]\n",
    "plt.hist( res_df[(var,'m')],density=True)\n",
    "plt.xlabel(var)\n",
    "if( var=='Vmax_o'):\n",
    "    dist = pm.Lognormal.dist( mu=np.log(150),sd=0.5)\n",
    "    xx = np.linspace(0,500,101)\n",
    "    plt.plot(xx,np.exp(dist.logp(xx).eval()))\n",
    "if( var=='a_o'):\n",
    "    dist = pm.HalfNormal.dist(sd=2)\n",
    "    xx = np.linspace(0,5,101)\n",
    "    plt.plot(-xx,np.exp(dist.logp(xx).eval()))\n",
    "if( var=='t_o'):\n",
    "    dist = pm.Normal.dist(       mu=6  ,sd=6)\n",
    "    xx = np.linspace(-5,5,101)\n",
    "    plt.plot(xx,np.exp(dist.logp(xx).eval()))\n",
    "if( var=='nu_o'):\n",
    "    dist =  pm.Lognormal.dist(  mu=np.log(1), sd=0.10)\n",
    "    xx = np.linspace(0,2,101)\n",
    "    plt.plot(xx,np.exp(dist.logp(xx).eval()))    \n",
    "if( var=='Vmin_o'):\n",
    "    dist =  pm.Lognormal.dist(   mu=np.log(  10),sd=0.6)\n",
    "    xx = np.linspace(0,20,101)\n",
    "    plt.plot(xx,np.exp(dist.logp(xx).eval()))  \n",
    "    \n",
    "   "
   ]
  },
  {
   "cell_type": "code",
   "execution_count": 9,
   "metadata": {},
   "outputs": [
    {
     "data": {
      "text/plain": [
       "['Vmax_o',\n",
       " 'a_o',\n",
       " 't_o',\n",
       " 'nu_o',\n",
       " 'Vmin_o',\n",
       " 'sdo_o',\n",
       " 'Vmax_n',\n",
       " 'a0',\n",
       " 't0',\n",
       " 'nu0',\n",
       " 'a1',\n",
       " 't1',\n",
       " 'nu1',\n",
       " 'Vmin_n',\n",
       " 'sdo_n']"
      ]
     },
     "execution_count": 9,
     "metadata": {},
     "output_type": "execute_result"
    }
   ],
   "source": [
    "ff.var_names"
   ]
  },
  {
   "cell_type": "code",
   "execution_count": null,
   "metadata": {},
   "outputs": [],
   "source": []
  }
 ],
 "metadata": {
  "kernelspec": {
   "display_name": "Python 3",
   "language": "python",
   "name": "python3"
  },
  "language_info": {
   "codemirror_mode": {
    "name": "ipython",
    "version": 3
   },
   "file_extension": ".py",
   "mimetype": "text/x-python",
   "name": "python",
   "nbconvert_exporter": "python",
   "pygments_lexer": "ipython3",
   "version": "3.7.3"
  }
 },
 "nbformat": 4,
 "nbformat_minor": 2
}
